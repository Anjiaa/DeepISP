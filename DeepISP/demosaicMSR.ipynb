{
 "cells": [
  {
   "cell_type": "markdown",
   "metadata": {},
   "source": [
    "# Demosaic MSR dataset"
   ]
  },
  {
   "cell_type": "code",
   "execution_count": null,
   "metadata": {},
   "outputs": [],
   "source": [
    "import os\n",
    "import matplotlib.pyplot as plt\n",
    "import glob\n",
    "#import shutil\n",
    "from PIL import Image\n",
    "import cv2"
   ]
  },
  {
   "cell_type": "code",
   "execution_count": 7,
   "metadata": {},
   "outputs": [],
   "source": [
    "BASE_PATH = os.path.join(os.getcwd(),'MSR-Demosaicing','Dataset_LINEAR_with_noise','bayer_panasonic')\n",
    "NEW_PATH_X = os.path.join(BASE_PATH,'input_dem')\n",
    "OLD_PATH_X = os.path.join(BASE_PATH,'input')\n",
    "OLD_PATH_Y = os.path.join(BASE_PATH,'groundtruth')"
   ]
  },
  {
   "cell_type": "code",
   "execution_count": 8,
   "metadata": {},
   "outputs": [],
   "source": [
    "if not os.path.isdir(NEW_PATH_X): os.mkdir(NEW_PATH_X)"
   ]
  },
  {
   "cell_type": "code",
   "execution_count": 11,
   "metadata": {},
   "outputs": [],
   "source": [
    "image_paths = glob.glob(OLD_PATH_X+'/'+'*.png') # full paths to DNGs"
   ]
  },
  {
   "cell_type": "code",
   "execution_count": 15,
   "metadata": {},
   "outputs": [],
   "source": [
    "## Loop through every image in X, demosaic it, save in NEW_PATH_X\n",
    "for fpath in image_paths:\n",
    "    #print(fpath)\n",
    "    fname = fpath.split('/')[-1].split('.')[-2]\n",
    "    img = cv2.imread(fpath, flags=cv2.IMREAD_GRAYSCALE) \n",
    "    rgb = cv2.cvtColor(img, cv2.COLOR_BayerBG2RGB) \n",
    "    Image.fromarray(rgb).save(os.path.join(NEW_PATH_X,fname+'.png'))"
   ]
  },
  {
   "cell_type": "code",
   "execution_count": null,
   "metadata": {},
   "outputs": [],
   "source": []
  }
 ],
 "metadata": {
  "kernelspec": {
   "display_name": "Python 3",
   "language": "python",
   "name": "python3"
  },
  "language_info": {
   "codemirror_mode": {
    "name": "ipython",
    "version": 3
   },
   "file_extension": ".py",
   "mimetype": "text/x-python",
   "name": "python",
   "nbconvert_exporter": "python",
   "pygments_lexer": "ipython3",
   "version": "3.7.4"
  }
 },
 "nbformat": 4,
 "nbformat_minor": 4
}
