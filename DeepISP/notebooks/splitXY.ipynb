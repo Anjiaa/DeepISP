{
 "cells": [
  {
   "cell_type": "code",
   "execution_count": 1,
   "metadata": {},
   "outputs": [],
   "source": [
    "## splitXY\n",
    "## Splits the original dataset as downloaded from Kaggle and renames the files\n",
    "## \n",
    "## \n",
    "## "
   ]
  },
  {
   "cell_type": "code",
   "execution_count": 2,
   "metadata": {},
   "outputs": [],
   "source": [
    "import os\n",
    "import glob\n",
    "import shutil "
   ]
  },
  {
   "cell_type": "code",
   "execution_count": 10,
   "metadata": {},
   "outputs": [],
   "source": [
    "DATASET_DIR_NAME = 'S7-ISP-Dataset'\n",
    "NEW_DATASET_DIR_NAME = 'S7-ISP-Dataset-Sorted'\n",
    "BASE_PATH = os.getcwd()\n",
    "DATA_PATH = os.path.join(BASE_PATH,DATASET_DIR_NAME)\n",
    "NEW_DATA_PATH = os.path.join(BASE_PATH,NEW_DATASET_DIR_NAME)\n",
    "if not os.path.isdir(NEW_DATA_PATH): os.mkdir(NEW_DATA_PATH)\n",
    "\n",
    "########### Short exposure ##########\n",
    "NEW_DATASET_SHORT_EXPOSURE_PATH = os.path.join(NEW_DATA_PATH,'S7-ISP-Short-Exposure')\n",
    "if not os.path.isdir(NEW_DATASET_SHORT_EXPOSURE_PATH): os.mkdir(NEW_DATASET_SHORT_EXPOSURE_PATH)\n",
    "NEW_PATH_X = os.path.join(NEW_DATASET_SHORT_EXPOSURE_PATH,'X')\n",
    "if not os.path.isdir(NEW_PATH_X): os.mkdir(NEW_PATH_X)\n",
    "NEW_PATH_Y = os.path.join(NEW_DATASET_SHORT_EXPOSURE_PATH,'Y')\n",
    "if not os.path.isdir(NEW_PATH_Y): os.mkdir(NEW_PATH_Y)\n",
    "######### Medium exposure ##########\n",
    "'''NEW_DATASET_MEDIUM_EXPOSURE_PATH = os.path.join(NEW_DATA_PATH,'S7-ISP-Medium-Exposure')\n",
    "if not os.path.isdir(NEW_DATASET_MEDIUM_EXPOSURE_PATH): os.mkdir(NEW_DATASET_MEDIUM_EXPOSURE_PATH)\n",
    "NEW_PATH_X_MEDIUM_EXPOSURE = os.path.join(NEW_DATASET_MEDIUM_EXPOSURE_PATH,'X')\n",
    "if not os.path.isdir(NEW_PATH_X_MEDIUM_EXPOSURE): os.mkdir(NEW_PATH_X_MEDIUM_EXPOSURE)\n",
    "NEW_PATH_Y_MEDIUM_EXPOSURE = os.path.join(NEW_DATASET_MEDIUM_EXPOSURE_PATH,'Y')\n",
    "if not os.path.isdir(NEW_PATH_Y_MEDIUM_EXPOSURE): os.mkdir(NEW_PATH_Y_MEDIUM_EXPOSURE)''';\n"
   ]
  },
  {
   "cell_type": "code",
   "execution_count": 11,
   "metadata": {},
   "outputs": [],
   "source": [
    "# Loop through each folder inside the top folder of the dataset as downloaded from Kaggle\n",
    "# Put each short exposure dng in NEW_PATH_X and each medium exposure (ground truth) in NEW_PATH_Y\n",
    "# The name of each image is changed to the name of the folder it belonged to. This way the names completeley match\n",
    "for dirname in os.listdir(DATA_PATH):\n",
    "    DNGs = glob.glob(DATA_PATH+\"/\"+dirname+\"/\"+\"*.dng\") #list of full paths to dng\n",
    "    JPGs = glob.glob(DATA_PATH+\"/\"+dirname+\"/\"+\"*.jpg\") #list of full paths to jpg\n",
    "    for dng_path, jpg_path in zip(DNGs,JPGs):\n",
    "        dng_name = dng_path.split('/')[-1]\n",
    "        jpg_name = jpg_path.split('/')[-1]\n",
    "        if dng_name.split('_')[0] == 'short':\n",
    "            shutil.copy(dng_path, os.path.join(NEW_PATH_X,dirname+'.dng'))\n",
    "        if jpg_name.split('_')[0] == 'medium':\n",
    "            shutil.copy(jpg_path, os.path.join(NEW_PATH_Y,dirname+'.jpg')) "
   ]
  }
 ],
 "metadata": {
  "kernelspec": {
   "display_name": "Python 3",
   "language": "python",
   "name": "python3"
  },
  "language_info": {
   "codemirror_mode": {
    "name": "ipython",
    "version": 3
   },
   "file_extension": ".py",
   "mimetype": "text/x-python",
   "name": "python",
   "nbconvert_exporter": "python",
   "pygments_lexer": "ipython3",
   "version": "3.7.4"
  }
 },
 "nbformat": 4,
 "nbformat_minor": 4
}
